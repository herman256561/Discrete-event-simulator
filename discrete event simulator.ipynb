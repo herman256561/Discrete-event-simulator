{
 "cells": [
  {
   "cell_type": "code",
   "execution_count": 3,
   "id": "7b95cfc0-2d07-4d40-af58-fd00e502b411",
   "metadata": {},
   "outputs": [
    {
     "name": "stdout",
     "output_type": "stream",
     "text": [
      "Loop finished.\n"
     ]
    }
   ],
   "source": [
    "import random\n",
    "\n",
    "# Initialize variables\n",
    "pkt_in_q=0\n",
    "pkt_dropped=0\n",
    "\n",
    "# times to simulate\n",
    "times=1000000\n",
    "\n",
    "\n",
    "# arr = arrival rate\n",
    "arr=25\n",
    "# dep = departure rate\n",
    "dep=60\n",
    "# n = buffer size\n",
    "n=60\n",
    "\n",
    "# array for writing file\n",
    "arr_w=[]\n",
    "\n",
    "# simulate the event 1,000,000 times\n",
    "for x in range(times):\n",
    "    # y generate a number between 0-1\n",
    "    y=random.random()\n",
    "    if y<=(arr/(dep+arr)):\n",
    "        if pkt_in_q<n:\n",
    "            pkt_in_q+=1\n",
    "        else:\n",
    "            pkt_dropped+=1\n",
    "    else:\n",
    "        if pkt_in_q>0:\n",
    "            pkt_in_q-=1\n",
    "    \n",
    "    line_to_be_add = str(x)+\" \"+str(pkt_in_q)+\" \"+str(pkt_dropped)\n",
    "    arr_w.append(line_to_be_add)\n",
    "    # append the result into arrays\n",
    "    # arr_q.append(pkt_in_q)\n",
    "    # arr_dropped.append(pkt_dropped)\n",
    "else:\n",
    "    print('Loop finished.')\n",
    "    with open('input_0.txt', 'a+') as f:\n",
    "        for ele in arr_w:\n",
    "            f.write(ele)\n",
    "            f.write('\\n')"
   ]
  },
  {
   "cell_type": "code",
   "execution_count": null,
   "id": "44a3331a-b202-4ddb-9d79-a4913df46a34",
   "metadata": {},
   "outputs": [],
   "source": []
  },
  {
   "cell_type": "code",
   "execution_count": null,
   "id": "cab31789-c239-49eb-9761-140b7deaa055",
   "metadata": {},
   "outputs": [],
   "source": []
  }
 ],
 "metadata": {
  "kernelspec": {
   "display_name": "Python 3 (ipykernel)",
   "language": "python",
   "name": "python3"
  },
  "language_info": {
   "codemirror_mode": {
    "name": "ipython",
    "version": 3
   },
   "file_extension": ".py",
   "mimetype": "text/x-python",
   "name": "python",
   "nbconvert_exporter": "python",
   "pygments_lexer": "ipython3",
   "version": "3.11.5"
  }
 },
 "nbformat": 4,
 "nbformat_minor": 5
}
