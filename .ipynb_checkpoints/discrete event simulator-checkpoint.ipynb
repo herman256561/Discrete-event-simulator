{
 "cells": [
  {
   "cell_type": "code",
   "execution_count": 13,
   "id": "a40af139-9b4b-4eaf-8190-3069d79d8c5b",
   "metadata": {},
   "outputs": [],
   "source": [
    "import random\n",
    "\n",
    "# Initialize variables\n",
    "pkt_in_q=0\n",
    "pkt_dropped=0"
   ]
  },
  {
   "cell_type": "code",
   "execution_count": 14,
   "id": "dda5f135-99f8-4b18-80a0-ef5c74afb669",
   "metadata": {},
   "outputs": [],
   "source": [
    "# n = buffer size\n",
    "n=60\n",
    "# arr = arrival rate\n",
    "arr=25\n",
    "# dep = departure rate\n",
    "dep=60"
   ]
  },
  {
   "cell_type": "code",
   "execution_count": 15,
   "id": "c9f5d41b-2457-48c2-a036-2344375d6f4f",
   "metadata": {},
   "outputs": [],
   "source": [
    "# queue for pkt_in_q\n",
    "arr_q=[]\n",
    "# queue for pkt_dropped\n",
    "arr_dropped=[]"
   ]
  },
  {
   "cell_type": "code",
   "execution_count": 16,
   "id": "7b95cfc0-2d07-4d40-af58-fd00e502b411",
   "metadata": {},
   "outputs": [
    {
     "name": "stdout",
     "output_type": "stream",
     "text": [
      "Loop finished.\n",
      "1000000\n",
      "1000000\n"
     ]
    }
   ],
   "source": [
    "# simulate the event 1,000,000 times\n",
    "for x in range(1000000):\n",
    "    # y generate a number between 0-1\n",
    "    y=random.random()\n",
    "    if y>=(arr/(dep+arr)):\n",
    "        if pkt_in_q<n:\n",
    "            pkt_in_q+=1\n",
    "        else:\n",
    "            pkt_dropped+=1\n",
    "    else:\n",
    "        if pkt_in_q>0:\n",
    "            pkt_in_q-=1\n",
    "    \n",
    "    # append the result into arrays\n",
    "    arr_q.append(pkt_in_q)\n",
    "    arr_dropped.append(pkt_dropped)\n",
    "else:\n",
    "    print('Loop finished.')\n",
    "    print(len(arr_q))\n",
    "    print(len(arr_dropped))"
   ]
  },
  {
   "cell_type": "code",
   "execution_count": null,
   "id": "44a3331a-b202-4ddb-9d79-a4913df46a34",
   "metadata": {},
   "outputs": [],
   "source": []
  },
  {
   "cell_type": "code",
   "execution_count": null,
   "id": "cab31789-c239-49eb-9761-140b7deaa055",
   "metadata": {},
   "outputs": [],
   "source": []
  }
 ],
 "metadata": {
  "kernelspec": {
   "display_name": "Python 3 (ipykernel)",
   "language": "python",
   "name": "python3"
  },
  "language_info": {
   "codemirror_mode": {
    "name": "ipython",
    "version": 3
   },
   "file_extension": ".py",
   "mimetype": "text/x-python",
   "name": "python",
   "nbconvert_exporter": "python",
   "pygments_lexer": "ipython3",
   "version": "3.11.5"
  }
 },
 "nbformat": 4,
 "nbformat_minor": 5
}
