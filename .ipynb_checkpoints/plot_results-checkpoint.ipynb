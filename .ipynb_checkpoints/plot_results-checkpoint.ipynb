{
 "cells": [
  {
   "cell_type": "code",
   "execution_count": 1,
   "id": "b8939a9f-d437-4f07-afe5-84e4790db7d6",
   "metadata": {},
   "outputs": [
    {
     "ename": "ModuleNotFoundError",
     "evalue": "No module named 'matplotlib'",
     "output_type": "error",
     "traceback": [
      "\u001b[0;31m---------------------------------------------------------------------------\u001b[0m",
      "\u001b[0;31mModuleNotFoundError\u001b[0m                       Traceback (most recent call last)",
      "Cell \u001b[0;32mIn[1], line 6\u001b[0m\n\u001b[1;32m      4\u001b[0m \u001b[38;5;28;01mimport\u001b[39;00m \u001b[38;5;21;01msys\u001b[39;00m\n\u001b[1;32m      5\u001b[0m \u001b[38;5;28;01mimport\u001b[39;00m \u001b[38;5;21;01margparse\u001b[39;00m\n\u001b[0;32m----> 6\u001b[0m \u001b[38;5;28;01mimport\u001b[39;00m \u001b[38;5;21;01mmatplotlib\u001b[39;00m\n\u001b[1;32m      7\u001b[0m \u001b[38;5;28;01mimport\u001b[39;00m \u001b[38;5;21;01mmatplotlib\u001b[39;00m\u001b[38;5;21;01m.\u001b[39;00m\u001b[38;5;21;01mpyplot\u001b[39;00m \u001b[38;5;28;01mas\u001b[39;00m \u001b[38;5;21;01mplt\u001b[39;00m\n\u001b[1;32m      8\u001b[0m \u001b[38;5;28;01mimport\u001b[39;00m \u001b[38;5;21;01mmatplotlib\u001b[39;00m\u001b[38;5;21;01m.\u001b[39;00m\u001b[38;5;21;01mdates\u001b[39;00m \u001b[38;5;28;01mas\u001b[39;00m \u001b[38;5;21;01mmdates\u001b[39;00m\n",
      "\u001b[0;31mModuleNotFoundError\u001b[0m: No module named 'matplotlib'"
     ]
    }
   ],
   "source": [
    "# Plots results for input file of form\n",
    "# event_number  queue_len   dropped_packets\n",
    "\n",
    "import sys\n",
    "import argparse\n",
    "import matplotlib\n",
    "import matplotlib.pyplot as plt\n",
    "import matplotlib.dates as mdates\n",
    "\n",
    "def get_args(argv):\n",
    "    parser = argparse.ArgumentParser(description=\"Program for plotting simulator results\")\n",
    "    parser.add_argument('-i', 'input_0.txt', required=True)\n",
    "    parser.add_argument('-o', '--output-file', required=True)\n",
    "    parser.add_argument('-t', '--title', required=False)\n",
    "    return parser.parse_args()\n",
    "\n",
    "def main(argv):\n",
    "    args = get_args(argv)\n",
    "\n",
    "    # Read points from file\n",
    "    event_seq_points = []\n",
    "    queue_len_points = []\n",
    "    dropped_count_points = []\n",
    "    with open(args.input_file, 'r') as f:\n",
    "        for line in f:\n",
    "            parts = line.split()\n",
    "            event_seq = int(parts[0])\n",
    "            pkt_in_q = int(parts[1])\n",
    "            pkt_dropped = int(parts[2])\n",
    "            event_seq_points.append(event_seq)\n",
    "            queue_len_points.append(pkt_in_q)\n",
    "            dropped_count_points.append(pkt_dropped)\n",
    "\n",
    "    # Create plot\n",
    "    plt.plot(event_seq_points, queue_len_points, label = \"pkt_in_q\")\n",
    "    plt.plot(event_seq_points, dropped_count_points, label = \"pkt_dropped\")\n",
    "    plt.legend()\n",
    "    if args.title:\n",
    "        plt.title(args.title)\n",
    "    plt.savefig(args.output_file)\n",
    "\n",
    "if __name__ == \"__main__\":\n",
    "    main(sys.argv[1:])\n"
   ]
  },
  {
   "cell_type": "code",
   "execution_count": null,
   "id": "ab6ea17e-5bb8-46ce-97fd-b72abce9869f",
   "metadata": {},
   "outputs": [],
   "source": []
  }
 ],
 "metadata": {
  "kernelspec": {
   "display_name": "Python 3 (ipykernel)",
   "language": "python",
   "name": "python3"
  },
  "language_info": {
   "codemirror_mode": {
    "name": "ipython",
    "version": 3
   },
   "file_extension": ".py",
   "mimetype": "text/x-python",
   "name": "python",
   "nbconvert_exporter": "python",
   "pygments_lexer": "ipython3",
   "version": "3.11.5"
  }
 },
 "nbformat": 4,
 "nbformat_minor": 5
}
