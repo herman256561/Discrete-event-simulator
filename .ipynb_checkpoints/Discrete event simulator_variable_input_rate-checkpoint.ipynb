{
 "cells": [
  {
   "cell_type": "code",
   "execution_count": 1,
   "id": "43ca9805-5bd2-48c7-945b-8138ddcf527e",
   "metadata": {},
   "outputs": [
    {
     "name": "stdout",
     "output_type": "stream",
     "text": [
      "Loop finished.\n"
     ]
    }
   ],
   "source": [
    "# simulator-2: for the variable input experiment\n",
    "import random\n",
    "\n",
    "# Initialize variables\n",
    "pkt_in_q=0\n",
    "pkt_dropped=0\n",
    "\n",
    "# how many times the event should be simulated\n",
    "times=1000000\n",
    "\n",
    "\n",
    "# arr = arrival rate of packets\n",
    "arr=25\n",
    "# dep = departure rate of packets\n",
    "dep=125\n",
    "# n = buffer size\n",
    "n=100\n",
    "\n",
    "# array that will be written into a txt file\n",
    "arr_w=[]\n",
    "\n",
    "# simulate the event 1,000,000 times\n",
    "# there are 5 phases included in this experiment, which will have the arrival rate changed in each phase\n",
    "for x in range(times):\n",
    "    if x <100000:\n",
    "        arr=70\n",
    "    elif x>=100000 & x<700000:\n",
    "        arr=200\n",
    "    elif x>=700000 & x<800000:\n",
    "        arr=130\n",
    "    elif x>=800000 & x<900000:\n",
    "        arr=120\n",
    "    elif x>=900000 & x<1000000:\n",
    "        arr=70\n",
    "\n",
    "    # y generate a number between 0-1\n",
    "    y=random.random()\n",
    "    # if y < the probability of a packet arriving the buffer\n",
    "    # this means at this point of time, a packet is more likely to arrive the buffer than leaving the buffer\n",
    "    # if y > the probability of a packet arriving the buffer\n",
    "    # this means at this point of time, a packet is more likely to leave the buffer than arriving the buffer\n",
    "    if y<=(arr/(dep+arr)):\n",
    "        if pkt_in_q<n:\n",
    "            pkt_in_q+=1\n",
    "        else:\n",
    "            pkt_dropped+=1\n",
    "    else:\n",
    "        if pkt_in_q>0:\n",
    "            pkt_in_q-=1\n",
    "     \n",
    "    # append the result into arrays\n",
    "    line_to_be_add = str(x)+\" \"+str(pkt_in_q)+\" \"+str(pkt_dropped)\n",
    "    arr_w.append(line_to_be_add)\n",
    "    \n",
    "# When the loop is finished, the result will be written into a txt file     \n",
    "else:\n",
    "    print('Loop finished.')\n",
    "    with open('V_input_0.txt', 'a+') as f:\n",
    "        for ele in arr_w:\n",
    "            f.write(ele)\n",
    "            f.write('\\n')"
   ]
  },
  {
   "cell_type": "code",
   "execution_count": null,
   "id": "43fb79e6-8d2d-428f-88f9-6e14e2a6d3f8",
   "metadata": {},
   "outputs": [],
   "source": []
  }
 ],
 "metadata": {
  "kernelspec": {
   "display_name": "Python 3 (ipykernel)",
   "language": "python",
   "name": "python3"
  },
  "language_info": {
   "codemirror_mode": {
    "name": "ipython",
    "version": 3
   },
   "file_extension": ".py",
   "mimetype": "text/x-python",
   "name": "python",
   "nbconvert_exporter": "python",
   "pygments_lexer": "ipython3",
   "version": "3.11.5"
  }
 },
 "nbformat": 4,
 "nbformat_minor": 5
}
