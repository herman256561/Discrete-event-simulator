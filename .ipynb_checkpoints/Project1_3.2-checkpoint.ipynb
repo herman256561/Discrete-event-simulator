{
 "cells": [
  {
   "cell_type": "code",
   "execution_count": 14,
   "id": "dbeae5a0-da90-4ab1-a9a9-2f9dfd355e10",
   "metadata": {},
   "outputs": [
    {
     "name": "stdout",
     "output_type": "stream",
     "text": [
      "最終隊列中的數據包數量: 0\n",
      "已丟棄的數據包數量: 209\n",
      "執行了： 2000 次\n"
     ]
    }
   ],
   "source": [
    "import random\n",
    "\n",
    "pkt_in_q = 0  # initial pkt number in the queue 隊列中的數據包數量初始化為0\n",
    "pkt_dropped = 0  # initial dropped pkt number 已丟棄的數據包數量初始化為0\n",
    "\n",
    "# event times\n",
    "#模擬的事件數量\n",
    "num_events_to_simulate = 2000\n",
    "\n",
    "# set departure rate and buffer size\n",
    "departure_rate = 125\n",
    "buffer_size = 100\n",
    "\n",
    "#set arrival rate base on events times\n",
    "arrival_rate = [70] * (num_events_to_simulate // 10) + \\\n",
    "               [200] * (num_events_to_simulate * 6 // 10) + \\\n",
    "               [130] * (num_events_to_simulate // 10) + \\\n",
    "               [120] * (num_events_to_simulate // 10) + \\\n",
    "               [70] * (num_events_to_simulate // 10)\n",
    "\n",
    "count = 0\n",
    "arr = 0\n",
    "\n",
    "with open('input_data.txt', 'w') as file:\n",
    "\n",
    "    # Simulate the events\n",
    "    for i in range(num_events_to_simulate):\n",
    "        file.write(f\"{i + 1} {pkt_in_q} {pkt_dropped}\\n\")\n",
    "        count += 1\n",
    "    \n",
    "        # calculate the probavility for arrival and departure \n",
    "        #計算到達事件和離開事件的機率\n",
    "        p_arrival = arrival_rate[i] / (arrival_rate[i] + departure_rate) #λ/(λ+μ) \n",
    "        \n",
    "        # give a random number to decide whether arrival or departure \n",
    "        #生成隨機數，以確定下一個事件是到達還是離開事件\n",
    "        random_num = random.random() \n",
    "    \n",
    "        if random_num <= p_arrival: \n",
    "            #arr += 1\n",
    "            #print(\"arr\", arr)\n",
    "            if pkt_in_q < buffer_size:\n",
    "                # 到達事件，如果隊列未滿，增加隊列中的數據包數量\n",
    "                pkt_in_q += 1\n",
    "            else:\n",
    "                pkt_dropped += 1\n",
    "        else:\n",
    "            # 離開事件，減少隊列中的數據包數量（如果隊列不為空)\n",
    "            if pkt_in_q > 0:\n",
    "                pkt_in_q -= 1\n",
    "\n",
    "# 輸出最終的隊列狀態\n",
    "print(\"最終隊列中的數據包數量:\", pkt_in_q)\n",
    "print(\"已丟棄的數據包數量:\", pkt_dropped)\n",
    "print(\"執行了：\", count, \"次\")"
   ]
  },
  {
   "cell_type": "code",
   "execution_count": null,
   "id": "927f13e7-143a-4ce9-aaaa-a73012e7ccec",
   "metadata": {},
   "outputs": [],
   "source": []
  }
 ],
 "metadata": {
  "kernelspec": {
   "display_name": "Python 3 (ipykernel)",
   "language": "python",
   "name": "python3"
  },
  "language_info": {
   "codemirror_mode": {
    "name": "ipython",
    "version": 3
   },
   "file_extension": ".py",
   "mimetype": "text/x-python",
   "name": "python",
   "nbconvert_exporter": "python",
   "pygments_lexer": "ipython3",
   "version": "3.11.5"
  }
 },
 "nbformat": 4,
 "nbformat_minor": 5
}
